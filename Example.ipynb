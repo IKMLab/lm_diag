{
 "cells": [
  {
   "cell_type": "code",
   "execution_count": 1,
   "metadata": {},
   "outputs": [],
   "source": [
    "import pytorch_transformers as pt\n",
    "\n",
    "import lm_diag as ld"
   ]
  },
  {
   "cell_type": "markdown",
   "metadata": {},
   "source": [
    "Load a BERT model."
   ]
  },
  {
   "cell_type": "code",
   "execution_count": 2,
   "metadata": {},
   "outputs": [],
   "source": [
    "model_type = 'bert-large-uncased'\n",
    "model = pt.BertForMaskedLM.from_pretrained(model_type)\n",
    "tokenizer = pt.BertTokenizer.from_pretrained(model_type)"
   ]
  },
  {
   "cell_type": "markdown",
   "metadata": {},
   "source": [
    "This is the evaluation function - you need to initialize it with a BERT model and tokenizer."
   ]
  },
  {
   "cell_type": "code",
   "execution_count": 3,
   "metadata": {},
   "outputs": [],
   "source": [
    "evaluate = ld.EvaluateBert(model, tokenizer)"
   ]
  },
  {
   "cell_type": "markdown",
   "metadata": {},
   "source": [
    "## Basic Input and Output"
   ]
  },
  {
   "cell_type": "markdown",
   "metadata": {},
   "source": [
    "What does BERT think about itself?"
   ]
  },
  {
   "cell_type": "code",
   "execution_count": 70,
   "metadata": {},
   "outputs": [],
   "source": [
    "target_prob, target_order, probs, orders = evaluate(\n",
    "    sentence='This language model is very strong.', \n",
    "    target_word='strong',\n",
    "    display=False)"
   ]
  },
  {
   "cell_type": "markdown",
   "metadata": {},
   "source": [
    "These are the outputs:"
   ]
  },
  {
   "cell_type": "code",
   "execution_count": 71,
   "metadata": {},
   "outputs": [
    {
     "data": {
      "text/plain": [
       "0.0135872755"
      ]
     },
     "execution_count": 71,
     "metadata": {},
     "output_type": "execute_result"
    }
   ],
   "source": [
    "target_prob"
   ]
  },
  {
   "cell_type": "code",
   "execution_count": 72,
   "metadata": {},
   "outputs": [
    {
     "data": {
      "text/plain": [
       "9"
      ]
     },
     "execution_count": 72,
     "metadata": {},
     "output_type": "execute_result"
    }
   ],
   "source": [
    "target_order"
   ]
  },
  {
   "cell_type": "code",
   "execution_count": 73,
   "metadata": {},
   "outputs": [
    {
     "data": {
      "text/plain": [
       "(30522,)"
      ]
     },
     "execution_count": 73,
     "metadata": {},
     "output_type": "execute_result"
    }
   ],
   "source": [
    "probs.shape"
   ]
  },
  {
   "cell_type": "code",
   "execution_count": 74,
   "metadata": {},
   "outputs": [
    {
     "data": {
      "text/plain": [
       "(30522,)"
      ]
     },
     "execution_count": 74,
     "metadata": {},
     "output_type": "execute_result"
    }
   ],
   "source": [
    "orders.shape"
   ]
  },
  {
   "cell_type": "markdown",
   "metadata": {},
   "source": [
    "Quite self-confident. The probs and orders cover the entire vocabulary. The orders are an ordered list of token indices, from highest to lowest prediction probability. The probs are **ordered**."
   ]
  },
  {
   "cell_type": "markdown",
   "metadata": {},
   "source": [
    "## Visualization"
   ]
  },
  {
   "cell_type": "markdown",
   "metadata": {},
   "source": [
    "You can print top-k predictions:"
   ]
  },
  {
   "cell_type": "code",
   "execution_count": 78,
   "metadata": {},
   "outputs": [
    {
     "name": "stdout",
     "output_type": "stream",
     "text": [
      "Top 5 predictions\n",
      "\tRank\tToken\t\tProb\n",
      "\t----\t-----\t\t----\n",
      "\t1\tsimple\t\t0.141\n",
      "\t2\tflexible\t0.112\n",
      "\t3\tcomplex\t\t0.080\n",
      "\t4\tefficient\t0.043\n",
      "\t5\tuseful\t\t0.035\n"
     ]
    }
   ],
   "source": [
    "evaluate.print_top(k=5, ordered_token_ixs=orders, ordered_probs=probs)"
   ]
  },
  {
   "cell_type": "markdown",
   "metadata": {},
   "source": [
    "And also the non-zero part of the Zipfian output distribution (rounded to 3 decimal places):"
   ]
  },
  {
   "cell_type": "code",
   "execution_count": 64,
   "metadata": {},
   "outputs": [
    {
     "data": {
      "image/png": "[encoded data removed]",
      "text/plain": [
       "<Figure size 432x288 with 1 Axes>"
      ]
     },
     "metadata": {
      "needs_background": "light"
     },
     "output_type": "display_data"
    }
   ],
   "source": [
    "evaluate.plot_non_zero(probs, target_order, target_prob)"
   ]
  },
  {
   "cell_type": "markdown",
   "metadata": {},
   "source": [
    "You can do all this displaying when called by leaving `display` to its default of `True`."
   ]
  },
  {
   "cell_type": "code",
   "execution_count": 79,
   "metadata": {},
   "outputs": [
    {
     "name": "stdout",
     "output_type": "stream",
     "text": [
      "--------\n",
      "\"The most promising philosophical basis for future progress in artificial intelligence is rationalism.\"\n",
      "Predicting \"promising\" @ rank 25 / 30522 (top 0.08%) with probability 0.002\n"
     ]
    },
    {
     "data": {
      "image/png": "[encoded data removed]",
      "text/plain": [
       "<Figure size 432x288 with 1 Axes>"
      ]
     },
     "metadata": {
      "needs_background": "light"
     },
     "output_type": "display_data"
    },
    {
     "name": "stdout",
     "output_type": "stream",
     "text": [
      "Top 10 predictions\n",
      "\tRank\tToken\t\tProb\n",
      "\t----\t-----\t\t----\n",
      "\t1\timportant\t0.485\n",
      "\t2\tcommon\t\t0.248\n",
      "\t3\tprominent\t0.034\n",
      "\t4\tbasic\t\t0.027\n",
      "\t5\tlikely\t\t0.022\n",
      "\t6\tfundamental\t0.022\n",
      "\t7\tpopular\t\t0.014\n",
      "\t8\tinfluential\t0.013\n",
      "\t9\tsignificant\t0.012\n",
      "\t10\tpowerful\t0.008\n"
     ]
    }
   ],
   "source": [
    "target_prob, target_order, probs, orders = evaluate(\n",
    "    sentence='The most promising philosophical basis for future progress in artificial intelligence is rationalism.', \n",
    "    target_word='promising',\n",
    "    k_to_show=10)"
   ]
  },
  {
   "cell_type": "markdown",
   "metadata": {},
   "source": [
    "## Debugging"
   ]
  },
  {
   "cell_type": "markdown",
   "metadata": {},
   "source": [
    "To get some debug info about how your input has been processed, pass `debug=True` to the evaluation function."
   ]
  },
  {
   "cell_type": "code",
   "execution_count": 80,
   "metadata": {},
   "outputs": [
    {
     "name": "stdout",
     "output_type": "stream",
     "text": [
      "Target \"science\" @ index 18\n",
      "0\t[CLS]\n",
      "1\tstrong\n",
      "2\tem\n",
      "3\t##pi\n",
      "4\t##ric\n",
      "5\t##ism\n",
      "6\tis\n",
      "7\thardly\n",
      "8\tjust\n",
      "9\t##if\n",
      "10\t##iable\n",
      "11\tin\n",
      "12\tlight\n",
      "13\tof\n",
      "14\tthe\n",
      "15\tevidence\n",
      "16\tof\n",
      "17\tcognitive\n",
      "18\t[MASK]\n",
      "19\t.\n",
      "20\t[SEP]\n",
      "--------\n",
      "\"Strong empiricism is hardly justifiable in light of the evidence of cognitive science.\"\n",
      "Predicting \"science\" @ rank 9 / 30522 (top 0.03%) with probability 0.020\n"
     ]
    },
    {
     "data": {
      "image/png": "[encoded data removed]",
      "text/plain": [
       "<Figure size 432x288 with 1 Axes>"
      ]
     },
     "metadata": {
      "needs_background": "light"
     },
     "output_type": "display_data"
    },
    {
     "name": "stdout",
     "output_type": "stream",
     "text": [
      "Top 10 predictions\n",
      "\tRank\tToken\t\tProb\n",
      "\t----\t-----\t\t----\n",
      "\t1\tbias\t\t0.096\n",
      "\t2\timpairment\t0.082\n",
      "\t3\tdisability\t0.060\n",
      "\t4\tability\t\t0.034\n",
      "\t5\tpsychology\t0.033\n",
      "\t6\tdisabilities\t0.027\n",
      "\t7\tneuroscience\t0.026\n",
      "\t8\tlimitations\t0.023\n",
      "\t9\tscience\t\t0.020\n",
      "\t10\tdisorders\t0.016\n"
     ]
    }
   ],
   "source": [
    "target_prob, target_order, probs, orders = evaluate(\n",
    "    sentence='Strong empiricism is hardly justifiable in light of the evidence of cognitive science.', \n",
    "    target_word='science',\n",
    "    debug=True)"
   ]
  },
  {
   "cell_type": "markdown",
   "metadata": {},
   "source": [
    "## Issues"
   ]
  },
  {
   "cell_type": "markdown",
   "metadata": {},
   "source": [
    "The function currently cannot handle words cut into pieces. It will fail gracefully (sort of) and tell you about this."
   ]
  },
  {
   "cell_type": "code",
   "execution_count": 81,
   "metadata": {},
   "outputs": [
    {
     "name": "stdout",
     "output_type": "stream",
     "text": [
      "['we', 'are', 'of', 'a', 'strong', 'mind', 'to', 'favour', 'em', '##pi', '##ric', '##ism', '.']\n",
      "Is your target word in pieces? If so pick another.\n",
      "empricism\n"
     ]
    },
    {
     "ename": "Exception",
     "evalue": "",
     "output_type": "error",
     "traceback": [
      "\u001b[0;31m---------------------------------------------------------------------------\u001b[0m",
      "\u001b[0;31mException\u001b[0m                                 Traceback (most recent call last)",
      "\u001b[0;32m<ipython-input-81-bd40ad1c799a>\u001b[0m in \u001b[0;36m<module>\u001b[0;34m\u001b[0m\n\u001b[1;32m      1\u001b[0m _ = evaluate(\n\u001b[1;32m      2\u001b[0m     \u001b[0msentence\u001b[0m\u001b[0;34m=\u001b[0m\u001b[0;34m'We are of a strong mind to favour empiricism.'\u001b[0m\u001b[0;34m,\u001b[0m\u001b[0;34m\u001b[0m\u001b[0;34m\u001b[0m\u001b[0m\n\u001b[0;32m----> 3\u001b[0;31m     target_word='empricism')\n\u001b[0m",
      "\u001b[0;32m~/dev/lm_diag/lm_diag.py\u001b[0m in \u001b[0;36m__call__\u001b[0;34m(self, sentence, target_word, k_to_show, debug, plot, display)\u001b[0m\n\u001b[1;32m     15\u001b[0m \u001b[0;34m\u001b[0m\u001b[0m\n\u001b[1;32m     16\u001b[0m         input_ids, target_seq_ix = self.get_input_ids(\n\u001b[0;32m---> 17\u001b[0;31m             sentence, target_word, debug)\n\u001b[0m\u001b[1;32m     18\u001b[0m         \u001b[0mpred_scores\u001b[0m \u001b[0;34m=\u001b[0m \u001b[0mself\u001b[0m\u001b[0;34m.\u001b[0m\u001b[0mget_predictions\u001b[0m\u001b[0;34m(\u001b[0m\u001b[0minput_ids\u001b[0m\u001b[0;34m,\u001b[0m \u001b[0mtarget_seq_ix\u001b[0m\u001b[0;34m)\u001b[0m\u001b[0;34m\u001b[0m\u001b[0;34m\u001b[0m\u001b[0m\n\u001b[1;32m     19\u001b[0m         \u001b[0mn_vocab\u001b[0m \u001b[0;34m=\u001b[0m \u001b[0mpred_scores\u001b[0m\u001b[0;34m.\u001b[0m\u001b[0mshape\u001b[0m\u001b[0;34m[\u001b[0m\u001b[0;36m0\u001b[0m\u001b[0;34m]\u001b[0m\u001b[0;34m\u001b[0m\u001b[0;34m\u001b[0m\u001b[0m\n",
      "\u001b[0;32m~/dev/lm_diag/lm_diag.py\u001b[0m in \u001b[0;36mget_input_ids\u001b[0;34m(self, sentence, target_word, debug)\u001b[0m\n\u001b[1;32m    149\u001b[0m             \u001b[0mprint\u001b[0m\u001b[0;34m(\u001b[0m\u001b[0;34m'Is your target word in pieces? If so pick another.'\u001b[0m\u001b[0;34m)\u001b[0m\u001b[0;34m\u001b[0m\u001b[0;34m\u001b[0m\u001b[0m\n\u001b[1;32m    150\u001b[0m             \u001b[0mprint\u001b[0m\u001b[0;34m(\u001b[0m\u001b[0mtarget_word\u001b[0m\u001b[0;34m)\u001b[0m\u001b[0;34m\u001b[0m\u001b[0;34m\u001b[0m\u001b[0m\n\u001b[0;32m--> 151\u001b[0;31m             \u001b[0;32mraise\u001b[0m \u001b[0mException\u001b[0m\u001b[0;34m\u001b[0m\u001b[0;34m\u001b[0m\u001b[0m\n\u001b[0m\u001b[1;32m    152\u001b[0m \u001b[0;34m\u001b[0m\u001b[0m\n\u001b[1;32m    153\u001b[0m         \u001b[0;31m# prepend CLS\u001b[0m\u001b[0;34m\u001b[0m\u001b[0;34m\u001b[0m\u001b[0;34m\u001b[0m\u001b[0m\n",
      "\u001b[0;31mException\u001b[0m: "
     ]
    }
   ],
   "source": [
    "_ = evaluate(\n",
    "    sentence='We are of a strong mind to favour empiricism.', \n",
    "    target_word='empricism')"
   ]
  }
 ],
 "metadata": {
  "kernelspec": {
   "display_name": "arct3",
   "language": "python",
   "name": "arct3"
  },
  "language_info": {
   "codemirror_mode": {
    "name": "ipython",
    "version": 3
   },
   "file_extension": ".py",
   "mimetype": "text/x-python",
   "name": "python",
   "nbconvert_exporter": "python",
   "pygments_lexer": "ipython3",
   "version": "3.7.4"
  }
 },
 "nbformat": 4,
 "nbformat_minor": 2
}
